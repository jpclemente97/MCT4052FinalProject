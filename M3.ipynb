{
 "cells": [
  {
   "cell_type": "code",
   "execution_count": 1,
   "id": "7789088e",
   "metadata": {},
   "outputs": [],
   "source": [
    "#importing packages\n",
    "import pretty_midi\n",
    "import numpy as np\n",
    "import mir_eval.display\n",
    "import librosa.display\n",
    "import matplotlib.pyplot as plt\n",
    "%matplotlib inline\n",
    "import IPython.display\n",
    "import os\n",
    "from mido import MidiFile"
   ]
  },
  {
   "cell_type": "code",
   "execution_count": 2,
   "id": "17bb6519",
   "metadata": {},
   "outputs": [],
   "source": [
    "# Contains information for each individual note\n",
    "class Note:\n",
    "    def __init__(self, velocity, beginTick, endTick):\n",
    "        self.velocity = velocity\n",
    "        self.beginTick = beginTick\n",
    "        self.endTick = endTick\n",
    "    \n",
    "    def addEndTick(self, endTick):\n",
    "        self.endTick = endTick"
   ]
  },
  {
   "cell_type": "code",
   "execution_count": 3,
   "id": "dd0bd783",
   "metadata": {},
   "outputs": [],
   "source": [
    "# Contians information for each file\n",
    "class File:\n",
    "    def __init__(self, ticksPerSixteenthNote, style, tempo, isBeat, timeSignature, instruments):\n",
    "        self.ticksPerSixteenthNote = ticksPerSixteenthNote\n",
    "        self.style = style\n",
    "        self.tempo = tempo\n",
    "        self.isBeat = isBeat\n",
    "        self.timeSignature = timeSignature\n",
    "        self.instruments = instruments"
   ]
  },
  {
   "cell_type": "code",
   "execution_count": 4,
   "id": "1dbce135",
   "metadata": {},
   "outputs": [],
   "source": [
    "# Contains information for each drummer (TODO: add functions)\n",
    "class Drummer:\n",
    "    def __init__(self, name, files):\n",
    "        self.name = name\n",
    "        self.files = files"
   ]
  },
  {
   "cell_type": "code",
   "execution_count": 5,
   "id": "840db195",
   "metadata": {},
   "outputs": [],
   "source": [
    "def extractMidiData(filename):\n",
    "    # Extract information from filename format\n",
    "    filenameInfo = filename.split(\"_\")\n",
    "    style = filenameInfo[1]\n",
    "    tempo = filenameInfo[2]\n",
    "    # Files are classified as either beats or fills\n",
    "    isBeat = (filenameInfo[3] == 'beat')\n",
    "    # The split function keeps the file extension, so we have to get rid of it for the time signature\n",
    "    timeSignature = filenameInfo[4].replace('.mid', '')\n",
    "    \n",
    "    # Extract information from Mido\n",
    "    mid = MidiFile(filename)   \n",
    "    ticksPerBeat = mid.ticks_per_beat\n",
    "    # We will be checking to see how far off every note is from 16th note quantization\n",
    "    ticksPerSixteenthNote = ticksPerBeat / 4\n",
    "    \n",
    "    # There should only be one track per file\n",
    "    for track in mid.tracks:\n",
    "        # Keeps track of what time we're at in the MIDI file using the \"time\" attribute\n",
    "        # in \"note_on\" and \"note_off\" messages\n",
    "        currentTick = 0\n",
    "        \n",
    "        # Dictionary for all of our MIDI instruments (snare, hi-hat, etc.)\n",
    "        instruments = {}\n",
    "        \n",
    "        for msg in track:\n",
    "            if msg.type == \"note_on\":\n",
    "                if msg.note not in instruments:\n",
    "                    # Create new list of notes for new instrument\n",
    "                    instruments[msg.note] = []\n",
    "                    \n",
    "                currentTick += msg.time\n",
    "                # End tick will be added when a note_off message appears\n",
    "                instruments[msg.note].append(Note(msg.velocity, currentTick, 0))\n",
    "            elif msg.type == \"note_off\":\n",
    "                currentTick += msg.time\n",
    "                # Add end tick value to the last note in the list\n",
    "                lastNoteIndex = len(instruments[msg.note]) - 1\n",
    "                instruments[msg.note][lastNoteIndex].addEndTick(currentTick)\n",
    "    \n",
    "    \n",
    "                \n",
    "    return File(ticksPerSixteenthNote, style, tempo, isBeat, timeSignature, instruments)"
   ]
  },
  {
   "cell_type": "code",
   "execution_count": 6,
   "id": "76a61aa4",
   "metadata": {},
   "outputs": [],
   "source": [
    "drummers = os.listdir('./groove')\n",
    "drummersList = []\n",
    "\n",
    "for drummer in drummers:\n",
    "    if drummer.find('drummer') != -1:\n",
    "        filesList = []\n",
    "        sessions = os.listdir('./groove/' + drummer)\n",
    "        for session in sessions:\n",
    "            if session != '.DS_Store' and session != 'Icon\\r':\n",
    "                files = os.listdir('./groove/' + drummer + '/' + session)\n",
    "                for file in files:\n",
    "                    if file.endswith('.mid'):\n",
    "                        filePath = './groove/' + drummer + \"/\" + session + \"/\"  + file\n",
    "                        filesList.append(extractMidiData(filePath))\n",
    "\n",
    "        drummersList.append(Drummer(drummer, filesList))"
   ]
  }
 ],
 "metadata": {
  "kernelspec": {
   "display_name": "Python 3 (ipykernel)",
   "language": "python",
   "name": "python3"
  },
  "language_info": {
   "codemirror_mode": {
    "name": "ipython",
    "version": 3
   },
   "file_extension": ".py",
   "mimetype": "text/x-python",
   "name": "python",
   "nbconvert_exporter": "python",
   "pygments_lexer": "ipython3",
   "version": "3.9.10"
  }
 },
 "nbformat": 4,
 "nbformat_minor": 5
}
