{
 "cells": [
  {
   "cell_type": "code",
   "execution_count": 1,
   "id": "8d0f4df7",
   "metadata": {},
   "outputs": [],
   "source": [
    "#importing packages\n",
    "import numpy as np\n",
    "import os\n",
    "from mido import MidiFile\n",
    "import sklearn\n",
    "import joblib\n",
    "from classes import Note\n",
    "from classes import File\n",
    "from classes import Drummer\n",
    "from functions import extractMidiData"
   ]
  },
  {
   "cell_type": "code",
   "execution_count": 2,
   "id": "3bd558d5",
   "metadata": {},
   "outputs": [],
   "source": [
    "# Load classifier pipeline\n",
    "classifierPipe = joblib.load(\"classifierPipe.pkl\")"
   ]
  },
  {
   "cell_type": "code",
   "execution_count": 3,
   "id": "8b8911b1",
   "metadata": {},
   "outputs": [],
   "source": [
    "drummerNameToInt = {\n",
    "    \"drummer1\": 1,\n",
    "    \"drummer3\": 3,\n",
    "    \"drummer4\": 4,\n",
    "    \"drummer5\": 5,\n",
    "    \"drummer6\": 6,\n",
    "    \"drummer7\": 7,\n",
    "    \"drummer8\": 8,\n",
    "    \"drummer9\": 9,\n",
    "    \"drummer10\": 10\n",
    "}"
   ]
  },
  {
   "cell_type": "code",
   "execution_count": 4,
   "id": "fa1080d9",
   "metadata": {},
   "outputs": [],
   "source": [
    "# Extract MIDI information from generatedGroove folder\n",
    "drummers = os.listdir('./generatedGroove')\n",
    "\n",
    "extendedDrummersList = []\n",
    "\n",
    "maxNumberOfFiles = 0\n",
    "\n",
    "for drummer in drummers:\n",
    "    if drummer.find('drummer') != -1:\n",
    "        filesList = []\n",
    "        files = os.listdir('./generatedGroove/' + drummer)\n",
    "        for file in files:\n",
    "            if file.endswith('.mid'):\n",
    "                maxNumberOfFiles += 1\n",
    "                filePath = './generatedGroove/' + drummer + \"/\" + file\n",
    "                filesList.append(extractMidiData(filePath))\n",
    "\n",
    "        extendedDrummersList.append(Drummer(drummer, drummerNameToInt[drummer], filesList))"
   ]
  },
  {
   "cell_type": "code",
   "execution_count": 5,
   "id": "6323d4f5",
   "metadata": {},
   "outputs": [],
   "source": [
    "# Get features and labels for each file\n",
    "numberOfFeatures = 78\n",
    "feat_test = np.zeros((maxNumberOfFiles, numberOfFeatures)) \n",
    "lab_test = np.zeros((maxNumberOfFiles))\n",
    "fileIndex = 0\n",
    "for i, drummer in enumerate(extendedDrummersList):\n",
    "    for file in drummer.files:\n",
    "        velocities, microtimings = file.extractFeatures()\n",
    "        if not isinstance(velocities, int):\n",
    "            feat_test[fileIndex, :] = np.concatenate((velocities, microtimings))\n",
    "            lab_test[fileIndex] = drummer.num\n",
    "            fileIndex += 1\n",
    "            \n",
    "feat_test = np.resize(feat_test, (fileIndex, numberOfFeatures))\n",
    "lab_test = np.resize(lab_test, (fileIndex))\n",
    "\n",
    "#applying the the model on the test data\n",
    "lab_predict = classifierPipe.predict(feat_test)"
   ]
  },
  {
   "cell_type": "code",
   "execution_count": 6,
   "id": "9c67453a",
   "metadata": {},
   "outputs": [
    {
     "name": "stdout",
     "output_type": "stream",
     "text": [
      "Number of mislabeled samples 100 out of 300\n",
      "Accuracy: 0.6666666666666666\n",
      "              precision    recall  f1-score   support\n",
      "\n",
      "         3.0       1.00      1.00      1.00       100\n",
      "         7.0       0.50      1.00      0.67       100\n",
      "         9.0       0.00      0.00      0.00       100\n",
      "\n",
      "    accuracy                           0.67       300\n",
      "   macro avg       0.50      0.67      0.56       300\n",
      "weighted avg       0.50      0.67      0.56       300\n",
      "\n",
      "confusion matrix\n",
      "[[100   0   0]\n",
      " [  0 100   0]\n",
      " [  0 100   0]]\n"
     ]
    },
    {
     "name": "stderr",
     "output_type": "stream",
     "text": [
      "/usr/local/lib/python3.9/site-packages/sklearn/metrics/_classification.py:1248: UndefinedMetricWarning: Precision and F-score are ill-defined and being set to 0.0 in labels with no predicted samples. Use `zero_division` parameter to control this behavior.\n",
      "  _warn_prf(average, modifier, msg_start, len(result))\n",
      "/usr/local/lib/python3.9/site-packages/sklearn/metrics/_classification.py:1248: UndefinedMetricWarning: Precision and F-score are ill-defined and being set to 0.0 in labels with no predicted samples. Use `zero_division` parameter to control this behavior.\n",
      "  _warn_prf(average, modifier, msg_start, len(result))\n",
      "/usr/local/lib/python3.9/site-packages/sklearn/metrics/_classification.py:1248: UndefinedMetricWarning: Precision and F-score are ill-defined and being set to 0.0 in labels with no predicted samples. Use `zero_division` parameter to control this behavior.\n",
      "  _warn_prf(average, modifier, msg_start, len(result))\n"
     ]
    }
   ],
   "source": [
    "# Print final accuracy results and confusion matrix\n",
    "print('Number of mislabeled samples %d out of %d' % ((lab_test != lab_predict).sum(),lab_test.size))\n",
    "print('Accuracy:',sklearn.metrics.accuracy_score(lab_test, lab_predict))\n",
    "print(sklearn.metrics.classification_report(lab_test, lab_predict))\n",
    "print('confusion matrix')\n",
    "print(sklearn.metrics.confusion_matrix(lab_test,lab_predict))"
   ]
  },
  {
   "cell_type": "code",
   "execution_count": null,
   "id": "6bae014a",
   "metadata": {},
   "outputs": [],
   "source": []
  }
 ],
 "metadata": {
  "kernelspec": {
   "display_name": "Python 3 (ipykernel)",
   "language": "python",
   "name": "python3"
  },
  "language_info": {
   "codemirror_mode": {
    "name": "ipython",
    "version": 3
   },
   "file_extension": ".py",
   "mimetype": "text/x-python",
   "name": "python",
   "nbconvert_exporter": "python",
   "pygments_lexer": "ipython3",
   "version": "3.9.10"
  }
 },
 "nbformat": 4,
 "nbformat_minor": 5
}
